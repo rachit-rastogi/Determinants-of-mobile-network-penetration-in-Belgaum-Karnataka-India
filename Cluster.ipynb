{
 "cells": [
  {
   "cell_type": "code",
   "execution_count": 1,
   "metadata": {},
   "outputs": [],
   "source": [
    "%matplotlib inline\n",
    "import matplotlib.pyplot as plt\n",
    "import seaborn as sns; sns.set()  # for plot styling\n",
    "import numpy as np\n",
    "import pandas as pd"
   ]
  },
  {
   "cell_type": "code",
   "execution_count": 2,
   "metadata": {},
   "outputs": [],
   "source": [
    "from sklearn.cluster import KMeans\n",
    "from collections import Counter, defaultdict\n",
    "from scipy.cluster.vq import kmeans,vq\n",
    "from scipy import stats\n"
   ]
  },
  {
   "cell_type": "code",
   "execution_count": 5,
   "metadata": {},
   "outputs": [],
   "source": [
    "mobile= pd.read_csv('cluster.csv')"
   ]
  },
  {
   "cell_type": "code",
   "execution_count": 6,
   "metadata": {},
   "outputs": [
    {
     "data": {
      "text/html": [
       "<div>\n",
       "<style scoped>\n",
       "    .dataframe tbody tr th:only-of-type {\n",
       "        vertical-align: middle;\n",
       "    }\n",
       "\n",
       "    .dataframe tbody tr th {\n",
       "        vertical-align: top;\n",
       "    }\n",
       "\n",
       "    .dataframe thead th {\n",
       "        text-align: right;\n",
       "    }\n",
       "</style>\n",
       "<table border=\"1\" class=\"dataframe\">\n",
       "  <thead>\n",
       "    <tr style=\"text-align: right;\">\n",
       "      <th></th>\n",
       "      <th>villagecodes</th>\n",
       "      <th>Television</th>\n",
       "      <th>Mobile</th>\n",
       "      <th>Other than perm</th>\n",
       "      <th>P_LIT %</th>\n",
       "      <th>F_LIT %</th>\n",
       "    </tr>\n",
       "  </thead>\n",
       "  <tbody>\n",
       "    <tr>\n",
       "      <th>0</th>\n",
       "      <td>0</td>\n",
       "      <td>48.6</td>\n",
       "      <td>56.4</td>\n",
       "      <td>12.0</td>\n",
       "      <td>65.10148103</td>\n",
       "      <td>56.78107689</td>\n",
       "    </tr>\n",
       "    <tr>\n",
       "      <th>1</th>\n",
       "      <td>0</td>\n",
       "      <td>39.7</td>\n",
       "      <td>54.6</td>\n",
       "      <td>14.4</td>\n",
       "      <td>65.10148103</td>\n",
       "      <td>56.78107689</td>\n",
       "    </tr>\n",
       "    <tr>\n",
       "      <th>2</th>\n",
       "      <td>597114</td>\n",
       "      <td>56.4</td>\n",
       "      <td>47.9</td>\n",
       "      <td>1.9</td>\n",
       "      <td>63.15531602</td>\n",
       "      <td>52.29357798</td>\n",
       "    </tr>\n",
       "    <tr>\n",
       "      <th>3</th>\n",
       "      <td>597115</td>\n",
       "      <td>59.1</td>\n",
       "      <td>64.2</td>\n",
       "      <td>1.1</td>\n",
       "      <td>71.40707299</td>\n",
       "      <td>61.06870229</td>\n",
       "    </tr>\n",
       "    <tr>\n",
       "      <th>4</th>\n",
       "      <td>597116</td>\n",
       "      <td>49.7</td>\n",
       "      <td>66.8</td>\n",
       "      <td>0.5</td>\n",
       "      <td>63.07471264</td>\n",
       "      <td>54.58984375</td>\n",
       "    </tr>\n",
       "    <tr>\n",
       "      <th>5</th>\n",
       "      <td>597117</td>\n",
       "      <td>58.1</td>\n",
       "      <td>63.3</td>\n",
       "      <td>0.0</td>\n",
       "      <td>70.85330777</td>\n",
       "      <td>60</td>\n",
       "    </tr>\n",
       "    <tr>\n",
       "      <th>6</th>\n",
       "      <td>597118</td>\n",
       "      <td>56.9</td>\n",
       "      <td>52.5</td>\n",
       "      <td>2.5</td>\n",
       "      <td>69.38540122</td>\n",
       "      <td>61.18508655</td>\n",
       "    </tr>\n",
       "    <tr>\n",
       "      <th>7</th>\n",
       "      <td>597119</td>\n",
       "      <td>41.0</td>\n",
       "      <td>53.8</td>\n",
       "      <td>0.7</td>\n",
       "      <td>66.18421053</td>\n",
       "      <td>57.86630655</td>\n",
       "    </tr>\n",
       "    <tr>\n",
       "      <th>8</th>\n",
       "      <td>597120</td>\n",
       "      <td>59.9</td>\n",
       "      <td>47.6</td>\n",
       "      <td>1.1</td>\n",
       "      <td>68.35156886</td>\n",
       "      <td>61.18081181</td>\n",
       "    </tr>\n",
       "    <tr>\n",
       "      <th>9</th>\n",
       "      <td>597121</td>\n",
       "      <td>47.1</td>\n",
       "      <td>64.3</td>\n",
       "      <td>2.7</td>\n",
       "      <td>66.11909651</td>\n",
       "      <td>58.60655738</td>\n",
       "    </tr>\n",
       "    <tr>\n",
       "      <th>10</th>\n",
       "      <td>597122</td>\n",
       "      <td>52.4</td>\n",
       "      <td>56.1</td>\n",
       "      <td>1.8</td>\n",
       "      <td>68.91684566</td>\n",
       "      <td>59.93690852</td>\n",
       "    </tr>\n",
       "    <tr>\n",
       "      <th>11</th>\n",
       "      <td>597123</td>\n",
       "      <td>55.2</td>\n",
       "      <td>50.0</td>\n",
       "      <td>4.1</td>\n",
       "      <td>67.1129833</td>\n",
       "      <td>56.16646416</td>\n",
       "    </tr>\n",
       "    <tr>\n",
       "      <th>12</th>\n",
       "      <td>597124</td>\n",
       "      <td>67.5</td>\n",
       "      <td>64.5</td>\n",
       "      <td>0.0</td>\n",
       "      <td>71.37096774</td>\n",
       "      <td>61.68032787</td>\n",
       "    </tr>\n",
       "    <tr>\n",
       "      <th>13</th>\n",
       "      <td>597125</td>\n",
       "      <td>55.1</td>\n",
       "      <td>57.5</td>\n",
       "      <td>2.4</td>\n",
       "      <td>67.77739998</td>\n",
       "      <td>58.78623188</td>\n",
       "    </tr>\n",
       "    <tr>\n",
       "      <th>14</th>\n",
       "      <td>597126</td>\n",
       "      <td>60.3</td>\n",
       "      <td>59.4</td>\n",
       "      <td>0.4</td>\n",
       "      <td>73.81930185</td>\n",
       "      <td>65.25773196</td>\n",
       "    </tr>\n",
       "    <tr>\n",
       "      <th>15</th>\n",
       "      <td>597127</td>\n",
       "      <td>54.4</td>\n",
       "      <td>53.9</td>\n",
       "      <td>0.9</td>\n",
       "      <td>66.32548618</td>\n",
       "      <td>56.24355005</td>\n",
       "    </tr>\n",
       "    <tr>\n",
       "      <th>16</th>\n",
       "      <td>597128</td>\n",
       "      <td>56.1</td>\n",
       "      <td>67.1</td>\n",
       "      <td>1.6</td>\n",
       "      <td>67.91701245</td>\n",
       "      <td>59.38543754</td>\n",
       "    </tr>\n",
       "    <tr>\n",
       "      <th>17</th>\n",
       "      <td>597129</td>\n",
       "      <td>53.1</td>\n",
       "      <td>56.2</td>\n",
       "      <td>4.2</td>\n",
       "      <td>69.7019479</td>\n",
       "      <td>61.19544592</td>\n",
       "    </tr>\n",
       "    <tr>\n",
       "      <th>18</th>\n",
       "      <td>597130</td>\n",
       "      <td>55.4</td>\n",
       "      <td>60.4</td>\n",
       "      <td>0.4</td>\n",
       "      <td>71.18566176</td>\n",
       "      <td>61.15779645</td>\n",
       "    </tr>\n",
       "    <tr>\n",
       "      <th>19</th>\n",
       "      <td>597131</td>\n",
       "      <td>42.2</td>\n",
       "      <td>61.7</td>\n",
       "      <td>2.0</td>\n",
       "      <td>66.3107511</td>\n",
       "      <td>58.25314582</td>\n",
       "    </tr>\n",
       "    <tr>\n",
       "      <th>20</th>\n",
       "      <td>597132</td>\n",
       "      <td>50.1</td>\n",
       "      <td>32.0</td>\n",
       "      <td>0.6</td>\n",
       "      <td>67.06680585</td>\n",
       "      <td>53.97292525</td>\n",
       "    </tr>\n",
       "    <tr>\n",
       "      <th>21</th>\n",
       "      <td>597133</td>\n",
       "      <td>49.2</td>\n",
       "      <td>50.6</td>\n",
       "      <td>2.3</td>\n",
       "      <td>62.11323662</td>\n",
       "      <td>53.22957198</td>\n",
       "    </tr>\n",
       "    <tr>\n",
       "      <th>22</th>\n",
       "      <td>597134</td>\n",
       "      <td>60.8</td>\n",
       "      <td>80.5</td>\n",
       "      <td>2.1</td>\n",
       "      <td>76.11163671</td>\n",
       "      <td>69.29057337</td>\n",
       "    </tr>\n",
       "    <tr>\n",
       "      <th>23</th>\n",
       "      <td>597135</td>\n",
       "      <td>50.7</td>\n",
       "      <td>46.0</td>\n",
       "      <td>1.6</td>\n",
       "      <td>64.93174061</td>\n",
       "      <td>55.35714286</td>\n",
       "    </tr>\n",
       "    <tr>\n",
       "      <th>24</th>\n",
       "      <td>597136</td>\n",
       "      <td>44.3</td>\n",
       "      <td>49.1</td>\n",
       "      <td>1.7</td>\n",
       "      <td>60.16839378</td>\n",
       "      <td>50.67204301</td>\n",
       "    </tr>\n",
       "    <tr>\n",
       "      <th>25</th>\n",
       "      <td>597137</td>\n",
       "      <td>51.0</td>\n",
       "      <td>55.3</td>\n",
       "      <td>3.2</td>\n",
       "      <td>66.93238043</td>\n",
       "      <td>56.86936937</td>\n",
       "    </tr>\n",
       "    <tr>\n",
       "      <th>26</th>\n",
       "      <td>597138</td>\n",
       "      <td>46.0</td>\n",
       "      <td>57.3</td>\n",
       "      <td>1.1</td>\n",
       "      <td>65.21344233</td>\n",
       "      <td>56.85372585</td>\n",
       "    </tr>\n",
       "    <tr>\n",
       "      <th>27</th>\n",
       "      <td>597139</td>\n",
       "      <td>44.0</td>\n",
       "      <td>55.6</td>\n",
       "      <td>4.9</td>\n",
       "      <td>60.74906367</td>\n",
       "      <td>49.45736434</td>\n",
       "    </tr>\n",
       "    <tr>\n",
       "      <th>28</th>\n",
       "      <td>597140</td>\n",
       "      <td>42.1</td>\n",
       "      <td>34.3</td>\n",
       "      <td>0.6</td>\n",
       "      <td>64.21713442</td>\n",
       "      <td>52.72591486</td>\n",
       "    </tr>\n",
       "    <tr>\n",
       "      <th>29</th>\n",
       "      <td>597141</td>\n",
       "      <td>41.4</td>\n",
       "      <td>54.8</td>\n",
       "      <td>0.3</td>\n",
       "      <td>66.19950536</td>\n",
       "      <td>55.4517134</td>\n",
       "    </tr>\n",
       "    <tr>\n",
       "      <th>...</th>\n",
       "      <td>...</td>\n",
       "      <td>...</td>\n",
       "      <td>...</td>\n",
       "      <td>...</td>\n",
       "      <td>...</td>\n",
       "      <td>...</td>\n",
       "    </tr>\n",
       "    <tr>\n",
       "      <th>1273</th>\n",
       "      <td>598372</td>\n",
       "      <td>38.5</td>\n",
       "      <td>32.5</td>\n",
       "      <td>2.0</td>\n",
       "      <td>61.03795507</td>\n",
       "      <td>49.76076555</td>\n",
       "    </tr>\n",
       "    <tr>\n",
       "      <th>1274</th>\n",
       "      <td>598373</td>\n",
       "      <td>28.5</td>\n",
       "      <td>24.8</td>\n",
       "      <td>14.8</td>\n",
       "      <td>59.09090909</td>\n",
       "      <td>50.16233766</td>\n",
       "    </tr>\n",
       "    <tr>\n",
       "      <th>1275</th>\n",
       "      <td>598374</td>\n",
       "      <td>26.3</td>\n",
       "      <td>40.8</td>\n",
       "      <td>9.2</td>\n",
       "      <td>47.17832957</td>\n",
       "      <td>38.29787234</td>\n",
       "    </tr>\n",
       "    <tr>\n",
       "      <th>1276</th>\n",
       "      <td>598375</td>\n",
       "      <td>37.7</td>\n",
       "      <td>63.8</td>\n",
       "      <td>11.1</td>\n",
       "      <td>48.31160147</td>\n",
       "      <td>41.54589372</td>\n",
       "    </tr>\n",
       "    <tr>\n",
       "      <th>1277</th>\n",
       "      <td>598376</td>\n",
       "      <td>48.1</td>\n",
       "      <td>53.5</td>\n",
       "      <td>15.5</td>\n",
       "      <td>55.23163516</td>\n",
       "      <td>45.91213267</td>\n",
       "    </tr>\n",
       "    <tr>\n",
       "      <th>1278</th>\n",
       "      <td>598377</td>\n",
       "      <td>64.6</td>\n",
       "      <td>63.6</td>\n",
       "      <td>0.0</td>\n",
       "      <td>74.67672414</td>\n",
       "      <td>69.55555556</td>\n",
       "    </tr>\n",
       "    <tr>\n",
       "      <th>1279</th>\n",
       "      <td>598378</td>\n",
       "      <td>30.2</td>\n",
       "      <td>50.0</td>\n",
       "      <td>13.1</td>\n",
       "      <td>52.05855444</td>\n",
       "      <td>40</td>\n",
       "    </tr>\n",
       "    <tr>\n",
       "      <th>1280</th>\n",
       "      <td>598379</td>\n",
       "      <td>15.0</td>\n",
       "      <td>35.4</td>\n",
       "      <td>6.3</td>\n",
       "      <td>42.40447344</td>\n",
       "      <td>30.94812165</td>\n",
       "    </tr>\n",
       "    <tr>\n",
       "      <th>1281</th>\n",
       "      <td>598380</td>\n",
       "      <td>59.9</td>\n",
       "      <td>34.3</td>\n",
       "      <td>52.6</td>\n",
       "      <td>55.26675787</td>\n",
       "      <td>40.54794521</td>\n",
       "    </tr>\n",
       "    <tr>\n",
       "      <th>1282</th>\n",
       "      <td>598381</td>\n",
       "      <td>16.6</td>\n",
       "      <td>53.1</td>\n",
       "      <td>101.2</td>\n",
       "      <td>53.67734282</td>\n",
       "      <td>39.7094431</td>\n",
       "    </tr>\n",
       "    <tr>\n",
       "      <th>1283</th>\n",
       "      <td>598382</td>\n",
       "      <td>21.4</td>\n",
       "      <td>51.7</td>\n",
       "      <td>20.6</td>\n",
       "      <td>55.13654096</td>\n",
       "      <td>40.92071611</td>\n",
       "    </tr>\n",
       "    <tr>\n",
       "      <th>1284</th>\n",
       "      <td>598383</td>\n",
       "      <td>35.0</td>\n",
       "      <td>60.9</td>\n",
       "      <td>37.6</td>\n",
       "      <td>51.87601958</td>\n",
       "      <td>44.1025641</td>\n",
       "    </tr>\n",
       "    <tr>\n",
       "      <th>1285</th>\n",
       "      <td>598384</td>\n",
       "      <td>35.8</td>\n",
       "      <td>67.4</td>\n",
       "      <td>56.6</td>\n",
       "      <td>56.10068259</td>\n",
       "      <td>47.95373665</td>\n",
       "    </tr>\n",
       "    <tr>\n",
       "      <th>1286</th>\n",
       "      <td>598385</td>\n",
       "      <td>53.8</td>\n",
       "      <td>57.8</td>\n",
       "      <td>55.5</td>\n",
       "      <td>64.6818298</td>\n",
       "      <td>56.19877049</td>\n",
       "    </tr>\n",
       "    <tr>\n",
       "      <th>1287</th>\n",
       "      <td>598386</td>\n",
       "      <td>34.4</td>\n",
       "      <td>23.0</td>\n",
       "      <td>41.8</td>\n",
       "      <td>66.41318124</td>\n",
       "      <td>51.06382979</td>\n",
       "    </tr>\n",
       "    <tr>\n",
       "      <th>1288</th>\n",
       "      <td>598387</td>\n",
       "      <td>45.7</td>\n",
       "      <td>73.0</td>\n",
       "      <td>66.8</td>\n",
       "      <td>61.10828673</td>\n",
       "      <td>51.02669405</td>\n",
       "    </tr>\n",
       "    <tr>\n",
       "      <th>1289</th>\n",
       "      <td>598388</td>\n",
       "      <td>53.2</td>\n",
       "      <td>60.3</td>\n",
       "      <td>79.0</td>\n",
       "      <td>66.91439582</td>\n",
       "      <td>57.23849372</td>\n",
       "    </tr>\n",
       "    <tr>\n",
       "      <th>1290</th>\n",
       "      <td>598389</td>\n",
       "      <td>12.6</td>\n",
       "      <td>66.3</td>\n",
       "      <td>14.8</td>\n",
       "      <td>48.34254144</td>\n",
       "      <td>39.65517241</td>\n",
       "    </tr>\n",
       "    <tr>\n",
       "      <th>1291</th>\n",
       "      <td>598390</td>\n",
       "      <td>8.4</td>\n",
       "      <td>47.1</td>\n",
       "      <td>47.9</td>\n",
       "      <td>46.96699376</td>\n",
       "      <td>36.08815427</td>\n",
       "    </tr>\n",
       "    <tr>\n",
       "      <th>1292</th>\n",
       "      <td>598391</td>\n",
       "      <td>14.2</td>\n",
       "      <td>22.2</td>\n",
       "      <td>71.6</td>\n",
       "      <td>64.90566038</td>\n",
       "      <td>50.78125</td>\n",
       "    </tr>\n",
       "    <tr>\n",
       "      <th>1293</th>\n",
       "      <td>598392</td>\n",
       "      <td>37.7</td>\n",
       "      <td>65.6</td>\n",
       "      <td>47.6</td>\n",
       "      <td>58.04195804</td>\n",
       "      <td>48.23914824</td>\n",
       "    </tr>\n",
       "    <tr>\n",
       "      <th>1294</th>\n",
       "      <td>598393</td>\n",
       "      <td>30.4</td>\n",
       "      <td>40.6</td>\n",
       "      <td>68.1</td>\n",
       "      <td>52.16251638</td>\n",
       "      <td>40.57591623</td>\n",
       "    </tr>\n",
       "    <tr>\n",
       "      <th>1295</th>\n",
       "      <td>598394</td>\n",
       "      <td>21.2</td>\n",
       "      <td>48.8</td>\n",
       "      <td>19.4</td>\n",
       "      <td>51.23390558</td>\n",
       "      <td>38.03278689</td>\n",
       "    </tr>\n",
       "    <tr>\n",
       "      <th>1296</th>\n",
       "      <td>598395</td>\n",
       "      <td>24.8</td>\n",
       "      <td>52.5</td>\n",
       "      <td>45.8</td>\n",
       "      <td>58.14940577</td>\n",
       "      <td>44.67323187</td>\n",
       "    </tr>\n",
       "    <tr>\n",
       "      <th>1297</th>\n",
       "      <td>598396</td>\n",
       "      <td>34.5</td>\n",
       "      <td>63.7</td>\n",
       "      <td>44.3</td>\n",
       "      <td>51.70975813</td>\n",
       "      <td>35.986733</td>\n",
       "    </tr>\n",
       "    <tr>\n",
       "      <th>1298</th>\n",
       "      <td>598397</td>\n",
       "      <td>41.8</td>\n",
       "      <td>47.3</td>\n",
       "      <td>4.8</td>\n",
       "      <td>66.71459382</td>\n",
       "      <td>55.9939302</td>\n",
       "    </tr>\n",
       "    <tr>\n",
       "      <th>1299</th>\n",
       "      <td>598398</td>\n",
       "      <td>42.2</td>\n",
       "      <td>62.5</td>\n",
       "      <td>81.6</td>\n",
       "      <td>60.66914498</td>\n",
       "      <td>49.31087289</td>\n",
       "    </tr>\n",
       "    <tr>\n",
       "      <th>1300</th>\n",
       "      <td>598399</td>\n",
       "      <td>39.1</td>\n",
       "      <td>47.4</td>\n",
       "      <td>37.4</td>\n",
       "      <td>65.42288557</td>\n",
       "      <td>52.63919017</td>\n",
       "    </tr>\n",
       "    <tr>\n",
       "      <th>1301</th>\n",
       "      <td>598400</td>\n",
       "      <td>23.0</td>\n",
       "      <td>67.4</td>\n",
       "      <td>42.4</td>\n",
       "      <td>52.92259084</td>\n",
       "      <td>42.49404289</td>\n",
       "    </tr>\n",
       "    <tr>\n",
       "      <th>1302</th>\n",
       "      <td>598401</td>\n",
       "      <td>41.8</td>\n",
       "      <td>53.2</td>\n",
       "      <td>39.2</td>\n",
       "      <td>61.1615245</td>\n",
       "      <td>52.89648623</td>\n",
       "    </tr>\n",
       "  </tbody>\n",
       "</table>\n",
       "<p>1303 rows × 6 columns</p>\n",
       "</div>"
      ],
      "text/plain": [
       "      villagecodes  Television  Mobile  Other than perm      P_LIT %  \\\n",
       "0                0        48.6    56.4             12.0  65.10148103   \n",
       "1                0        39.7    54.6             14.4  65.10148103   \n",
       "2           597114        56.4    47.9              1.9  63.15531602   \n",
       "3           597115        59.1    64.2              1.1  71.40707299   \n",
       "4           597116        49.7    66.8              0.5  63.07471264   \n",
       "5           597117        58.1    63.3              0.0  70.85330777   \n",
       "6           597118        56.9    52.5              2.5  69.38540122   \n",
       "7           597119        41.0    53.8              0.7  66.18421053   \n",
       "8           597120        59.9    47.6              1.1  68.35156886   \n",
       "9           597121        47.1    64.3              2.7  66.11909651   \n",
       "10          597122        52.4    56.1              1.8  68.91684566   \n",
       "11          597123        55.2    50.0              4.1   67.1129833   \n",
       "12          597124        67.5    64.5              0.0  71.37096774   \n",
       "13          597125        55.1    57.5              2.4  67.77739998   \n",
       "14          597126        60.3    59.4              0.4  73.81930185   \n",
       "15          597127        54.4    53.9              0.9  66.32548618   \n",
       "16          597128        56.1    67.1              1.6  67.91701245   \n",
       "17          597129        53.1    56.2              4.2   69.7019479   \n",
       "18          597130        55.4    60.4              0.4  71.18566176   \n",
       "19          597131        42.2    61.7              2.0   66.3107511   \n",
       "20          597132        50.1    32.0              0.6  67.06680585   \n",
       "21          597133        49.2    50.6              2.3  62.11323662   \n",
       "22          597134        60.8    80.5              2.1  76.11163671   \n",
       "23          597135        50.7    46.0              1.6  64.93174061   \n",
       "24          597136        44.3    49.1              1.7  60.16839378   \n",
       "25          597137        51.0    55.3              3.2  66.93238043   \n",
       "26          597138        46.0    57.3              1.1  65.21344233   \n",
       "27          597139        44.0    55.6              4.9  60.74906367   \n",
       "28          597140        42.1    34.3              0.6  64.21713442   \n",
       "29          597141        41.4    54.8              0.3  66.19950536   \n",
       "...            ...         ...     ...              ...          ...   \n",
       "1273        598372        38.5    32.5              2.0  61.03795507   \n",
       "1274        598373        28.5    24.8             14.8  59.09090909   \n",
       "1275        598374        26.3    40.8              9.2  47.17832957   \n",
       "1276        598375        37.7    63.8             11.1  48.31160147   \n",
       "1277        598376        48.1    53.5             15.5  55.23163516   \n",
       "1278        598377        64.6    63.6              0.0  74.67672414   \n",
       "1279        598378        30.2    50.0             13.1  52.05855444   \n",
       "1280        598379        15.0    35.4              6.3  42.40447344   \n",
       "1281        598380        59.9    34.3             52.6  55.26675787   \n",
       "1282        598381        16.6    53.1            101.2  53.67734282   \n",
       "1283        598382        21.4    51.7             20.6  55.13654096   \n",
       "1284        598383        35.0    60.9             37.6  51.87601958   \n",
       "1285        598384        35.8    67.4             56.6  56.10068259   \n",
       "1286        598385        53.8    57.8             55.5   64.6818298   \n",
       "1287        598386        34.4    23.0             41.8  66.41318124   \n",
       "1288        598387        45.7    73.0             66.8  61.10828673   \n",
       "1289        598388        53.2    60.3             79.0  66.91439582   \n",
       "1290        598389        12.6    66.3             14.8  48.34254144   \n",
       "1291        598390         8.4    47.1             47.9  46.96699376   \n",
       "1292        598391        14.2    22.2             71.6  64.90566038   \n",
       "1293        598392        37.7    65.6             47.6  58.04195804   \n",
       "1294        598393        30.4    40.6             68.1  52.16251638   \n",
       "1295        598394        21.2    48.8             19.4  51.23390558   \n",
       "1296        598395        24.8    52.5             45.8  58.14940577   \n",
       "1297        598396        34.5    63.7             44.3  51.70975813   \n",
       "1298        598397        41.8    47.3              4.8  66.71459382   \n",
       "1299        598398        42.2    62.5             81.6  60.66914498   \n",
       "1300        598399        39.1    47.4             37.4  65.42288557   \n",
       "1301        598400        23.0    67.4             42.4  52.92259084   \n",
       "1302        598401        41.8    53.2             39.2   61.1615245   \n",
       "\n",
       "          F_LIT %  \n",
       "0     56.78107689  \n",
       "1     56.78107689  \n",
       "2     52.29357798  \n",
       "3     61.06870229  \n",
       "4     54.58984375  \n",
       "5              60  \n",
       "6     61.18508655  \n",
       "7     57.86630655  \n",
       "8     61.18081181  \n",
       "9     58.60655738  \n",
       "10    59.93690852  \n",
       "11    56.16646416  \n",
       "12    61.68032787  \n",
       "13    58.78623188  \n",
       "14    65.25773196  \n",
       "15    56.24355005  \n",
       "16    59.38543754  \n",
       "17    61.19544592  \n",
       "18    61.15779645  \n",
       "19    58.25314582  \n",
       "20    53.97292525  \n",
       "21    53.22957198  \n",
       "22    69.29057337  \n",
       "23    55.35714286  \n",
       "24    50.67204301  \n",
       "25    56.86936937  \n",
       "26    56.85372585  \n",
       "27    49.45736434  \n",
       "28    52.72591486  \n",
       "29     55.4517134  \n",
       "...           ...  \n",
       "1273  49.76076555  \n",
       "1274  50.16233766  \n",
       "1275  38.29787234  \n",
       "1276  41.54589372  \n",
       "1277  45.91213267  \n",
       "1278  69.55555556  \n",
       "1279           40  \n",
       "1280  30.94812165  \n",
       "1281  40.54794521  \n",
       "1282   39.7094431  \n",
       "1283  40.92071611  \n",
       "1284   44.1025641  \n",
       "1285  47.95373665  \n",
       "1286  56.19877049  \n",
       "1287  51.06382979  \n",
       "1288  51.02669405  \n",
       "1289  57.23849372  \n",
       "1290  39.65517241  \n",
       "1291  36.08815427  \n",
       "1292     50.78125  \n",
       "1293  48.23914824  \n",
       "1294  40.57591623  \n",
       "1295  38.03278689  \n",
       "1296  44.67323187  \n",
       "1297    35.986733  \n",
       "1298   55.9939302  \n",
       "1299  49.31087289  \n",
       "1300  52.63919017  \n",
       "1301  42.49404289  \n",
       "1302  52.89648623  \n",
       "\n",
       "[1303 rows x 6 columns]"
      ]
     },
     "execution_count": 6,
     "metadata": {},
     "output_type": "execute_result"
    }
   ],
   "source": [
    "mobile"
   ]
  },
  {
   "cell_type": "code",
   "execution_count": 7,
   "metadata": {},
   "outputs": [
    {
     "name": "stderr",
     "output_type": "stream",
     "text": [
      "C:\\Users\\rachit\\Anaconda3\\lib\\site-packages\\ipykernel_launcher.py:1: FutureWarning: Method .as_matrix will be removed in a future version. Use .values instead.\n",
      "  \"\"\"Entry point for launching an IPython kernel.\n"
     ]
    }
   ],
   "source": [
    "mob = (mobile['Mobile']).as_matrix()"
   ]
  },
  {
   "cell_type": "code",
   "execution_count": 8,
   "metadata": {},
   "outputs": [
    {
     "data": {
      "text/plain": [
       "array([56.4, 54.6, 47.9, ..., 47.4, 67.4, 53.2])"
      ]
     },
     "execution_count": 8,
     "metadata": {},
     "output_type": "execute_result"
    }
   ],
   "source": [
    "mob"
   ]
  },
  {
   "cell_type": "code",
   "execution_count": 9,
   "metadata": {},
   "outputs": [],
   "source": [
    "mob1 = mob.reshape(-1,1)"
   ]
  },
  {
   "cell_type": "code",
   "execution_count": 10,
   "metadata": {},
   "outputs": [
    {
     "data": {
      "text/plain": [
       "(1303, 1)"
      ]
     },
     "execution_count": 10,
     "metadata": {},
     "output_type": "execute_result"
    }
   ],
   "source": [
    "mob1.shape"
   ]
  },
  {
   "cell_type": "code",
   "execution_count": 11,
   "metadata": {},
   "outputs": [
    {
     "data": {
      "text/plain": [
       "array([[56.4],\n",
       "       [54.6],\n",
       "       [47.9],\n",
       "       ...,\n",
       "       [47.4],\n",
       "       [67.4],\n",
       "       [53.2]])"
      ]
     },
     "execution_count": 11,
     "metadata": {},
     "output_type": "execute_result"
    }
   ],
   "source": [
    "mob1"
   ]
  },
  {
   "cell_type": "code",
   "execution_count": 12,
   "metadata": {},
   "outputs": [
    {
     "name": "stdout",
     "output_type": "stream",
     "text": [
      "[[30.69049296]\n",
      " [67.95234742]\n",
      " [52.73507589]]\n"
     ]
    }
   ],
   "source": [
    "km = KMeans(n_clusters=3)\n",
    "km.fit(mob1.reshape(-1,1))\n",
    "labels = km.labels_\n",
    "centroids,_= kmeans(mob1,3)\n",
    "idx,_=vq(mob1,centroids)\n",
    "print(centroids)\n"
   ]
  },
  {
   "cell_type": "code",
   "execution_count": 13,
   "metadata": {},
   "outputs": [
    {
     "name": "stdout",
     "output_type": "stream",
     "text": [
      "[250 429 624]\n"
     ]
    }
   ],
   "source": [
    "print(np.bincount(idx))"
   ]
  },
  {
   "cell_type": "code",
   "execution_count": 14,
   "metadata": {},
   "outputs": [
    {
     "name": "stdout",
     "output_type": "stream",
     "text": [
      "[[42.73232044]\n",
      " [69.9689441 ]\n",
      " [56.61070039]\n",
      " [17.51142857]]\n"
     ]
    }
   ],
   "source": [
    "centroids,_= kmeans(mob1,4)\n",
    "idx,_=vq(mob1,centroids)\n",
    "print(centroids)"
   ]
  },
  {
   "cell_type": "code",
   "execution_count": 15,
   "metadata": {},
   "outputs": [
    {
     "name": "stdout",
     "output_type": "stream",
     "text": [
      "[362 310 532  99]\n"
     ]
    }
   ],
   "source": [
    "print(np.bincount(idx))"
   ]
  },
  {
   "cell_type": "code",
   "execution_count": 16,
   "metadata": {},
   "outputs": [
    {
     "data": {
      "text/plain": [
       "array([[15.14659091],\n",
       "       [50.09660494],\n",
       "       [38.55263158],\n",
       "       [59.69927184],\n",
       "       [71.65498008]])"
      ]
     },
     "execution_count": 16,
     "metadata": {},
     "output_type": "execute_result"
    }
   ],
   "source": [
    "centroids,_= kmeans(mob1,5)\n",
    "idx,_=vq(mob1,centroids)\n",
    "centroids"
   ]
  },
  {
   "cell_type": "code",
   "execution_count": 17,
   "metadata": {},
   "outputs": [
    {
     "name": "stdout",
     "output_type": "stream",
     "text": [
      "[ 83 340 227 419 234]\n"
     ]
    }
   ],
   "source": [
    "print(np.bincount(idx))"
   ]
  },
  {
   "cell_type": "code",
   "execution_count": 19,
   "metadata": {},
   "outputs": [
    {
     "ename": "AxisError",
     "evalue": "axis 1 is out of bounds for array of dimension 1",
     "output_type": "error",
     "traceback": [
      "\u001b[1;31m---------------------------------------------------------------------------\u001b[0m",
      "\u001b[1;31mAxisError\u001b[0m                                 Traceback (most recent call last)",
      "\u001b[1;32m<ipython-input-19-d4a096d3b5a2>\u001b[0m in \u001b[0;36m<module>\u001b[1;34m\u001b[0m\n\u001b[1;32m----> 1\u001b[1;33m \u001b[0mmobile2\u001b[0m\u001b[1;33m=\u001b[0m\u001b[0mmob\u001b[0m\u001b[1;33m[\u001b[0m\u001b[1;33m(\u001b[0m\u001b[0mnp\u001b[0m\u001b[1;33m.\u001b[0m\u001b[0mabs\u001b[0m\u001b[1;33m(\u001b[0m\u001b[0mstats\u001b[0m\u001b[1;33m.\u001b[0m\u001b[0mzscore\u001b[0m\u001b[1;33m(\u001b[0m\u001b[0mmob\u001b[0m\u001b[1;33m)\u001b[0m\u001b[1;33m)\u001b[0m \u001b[1;33m<\u001b[0m \u001b[1;36m3\u001b[0m\u001b[1;33m)\u001b[0m\u001b[1;33m.\u001b[0m\u001b[0mall\u001b[0m\u001b[1;33m(\u001b[0m\u001b[0maxis\u001b[0m\u001b[1;33m=\u001b[0m\u001b[1;36m1\u001b[0m\u001b[1;33m)\u001b[0m\u001b[1;33m]\u001b[0m\u001b[1;33m\u001b[0m\u001b[1;33m\u001b[0m\u001b[0m\n\u001b[0m",
      "\u001b[1;32m~\\Anaconda3\\lib\\site-packages\\numpy\\core\\_methods.py\u001b[0m in \u001b[0;36m_all\u001b[1;34m(a, axis, dtype, out, keepdims)\u001b[0m\n\u001b[0;32m     44\u001b[0m \u001b[1;33m\u001b[0m\u001b[0m\n\u001b[0;32m     45\u001b[0m \u001b[1;32mdef\u001b[0m \u001b[0m_all\u001b[0m\u001b[1;33m(\u001b[0m\u001b[0ma\u001b[0m\u001b[1;33m,\u001b[0m \u001b[0maxis\u001b[0m\u001b[1;33m=\u001b[0m\u001b[1;32mNone\u001b[0m\u001b[1;33m,\u001b[0m \u001b[0mdtype\u001b[0m\u001b[1;33m=\u001b[0m\u001b[1;32mNone\u001b[0m\u001b[1;33m,\u001b[0m \u001b[0mout\u001b[0m\u001b[1;33m=\u001b[0m\u001b[1;32mNone\u001b[0m\u001b[1;33m,\u001b[0m \u001b[0mkeepdims\u001b[0m\u001b[1;33m=\u001b[0m\u001b[1;32mFalse\u001b[0m\u001b[1;33m)\u001b[0m\u001b[1;33m:\u001b[0m\u001b[1;33m\u001b[0m\u001b[1;33m\u001b[0m\u001b[0m\n\u001b[1;32m---> 46\u001b[1;33m     \u001b[1;32mreturn\u001b[0m \u001b[0mumr_all\u001b[0m\u001b[1;33m(\u001b[0m\u001b[0ma\u001b[0m\u001b[1;33m,\u001b[0m \u001b[0maxis\u001b[0m\u001b[1;33m,\u001b[0m \u001b[0mdtype\u001b[0m\u001b[1;33m,\u001b[0m \u001b[0mout\u001b[0m\u001b[1;33m,\u001b[0m \u001b[0mkeepdims\u001b[0m\u001b[1;33m)\u001b[0m\u001b[1;33m\u001b[0m\u001b[1;33m\u001b[0m\u001b[0m\n\u001b[0m\u001b[0;32m     47\u001b[0m \u001b[1;33m\u001b[0m\u001b[0m\n\u001b[0;32m     48\u001b[0m \u001b[1;32mdef\u001b[0m \u001b[0m_count_reduce_items\u001b[0m\u001b[1;33m(\u001b[0m\u001b[0marr\u001b[0m\u001b[1;33m,\u001b[0m \u001b[0maxis\u001b[0m\u001b[1;33m)\u001b[0m\u001b[1;33m:\u001b[0m\u001b[1;33m\u001b[0m\u001b[1;33m\u001b[0m\u001b[0m\n",
      "\u001b[1;31mAxisError\u001b[0m: axis 1 is out of bounds for array of dimension 1"
     ]
    }
   ],
   "source": [
    "mobile2=mob[(np.abs(stats.zscore(mob)) < 3).all(axis=1)]"
   ]
  },
  {
   "cell_type": "code",
   "execution_count": 17,
   "metadata": {},
   "outputs": [
    {
     "name": "stderr",
     "output_type": "stream",
     "text": [
      "C:\\Users\\rachit\\Anaconda3\\lib\\site-packages\\ipykernel_launcher.py:1: FutureWarning: Method .as_matrix will be removed in a future version. Use .values instead.\n",
      "  \"\"\"Entry point for launching an IPython kernel.\n"
     ]
    }
   ],
   "source": [
    "mob2= (mobile2['Mobile']).as_matrix()"
   ]
  },
  {
   "cell_type": "code",
   "execution_count": 18,
   "metadata": {},
   "outputs": [],
   "source": [
    "mob22 = mob2.reshape(-1,1)"
   ]
  },
  {
   "cell_type": "code",
   "execution_count": 19,
   "metadata": {},
   "outputs": [
    {
     "data": {
      "text/plain": [
       "array([[38.69936441],\n",
       "       [70.49471459],\n",
       "       [56.7663199 ]])"
      ]
     },
     "execution_count": 19,
     "metadata": {},
     "output_type": "execute_result"
    }
   ],
   "source": [
    "centroids,_= kmeans(mob22,3)\n",
    "idx,_=vq(mob22,centroids)\n",
    "centroids"
   ]
  },
  {
   "cell_type": "code",
   "execution_count": 20,
   "metadata": {},
   "outputs": [
    {
     "name": "stdout",
     "output_type": "stream",
     "text": [
      "[424 477 813]\n"
     ]
    }
   ],
   "source": [
    "print(np.bincount(idx))"
   ]
  },
  {
   "cell_type": "code",
   "execution_count": 21,
   "metadata": {},
   "outputs": [
    {
     "data": {
      "text/plain": [
       "array([[49.11637081],\n",
       "       [32.11652893],\n",
       "       [72.14359673],\n",
       "       [60.38879599]])"
      ]
     },
     "execution_count": 21,
     "metadata": {},
     "output_type": "execute_result"
    }
   ],
   "source": [
    "centroids,_= kmeans(mob22,4)\n",
    "idx,_=vq(mob22,centroids)\n",
    "centroids"
   ]
  },
  {
   "cell_type": "code",
   "execution_count": 22,
   "metadata": {},
   "outputs": [
    {
     "name": "stdout",
     "output_type": "stream",
     "text": [
      "[523 217 353 621]\n"
     ]
    }
   ],
   "source": [
    "print(np.bincount(idx))"
   ]
  },
  {
   "cell_type": "code",
   "execution_count": 23,
   "metadata": {},
   "outputs": [
    {
     "data": {
      "text/plain": [
       "array([[55.55673913],\n",
       "       [45.49765013],\n",
       "       [28.94127907],\n",
       "       [75.40465116],\n",
       "       [64.2392562 ]])"
      ]
     },
     "execution_count": 23,
     "metadata": {},
     "output_type": "execute_result"
    }
   ],
   "source": [
    "centroids,_= kmeans(mob22,5)\n",
    "idx,_=vq(mob22,centroids)\n",
    "centroids"
   ]
  },
  {
   "cell_type": "code",
   "execution_count": 24,
   "metadata": {},
   "outputs": [
    {
     "name": "stdout",
     "output_type": "stream",
     "text": [
      "[473 382 157 209 493]\n"
     ]
    }
   ],
   "source": [
    "print(np.bincount(idx))"
   ]
  },
  {
   "cell_type": "code",
   "execution_count": null,
   "metadata": {},
   "outputs": [],
   "source": []
  }
 ],
 "metadata": {
  "kernelspec": {
   "display_name": "Python 3",
   "language": "python",
   "name": "python3"
  },
  "language_info": {
   "codemirror_mode": {
    "name": "ipython",
    "version": 3
   },
   "file_extension": ".py",
   "mimetype": "text/x-python",
   "name": "python",
   "nbconvert_exporter": "python",
   "pygments_lexer": "ipython3",
   "version": "3.6.8"
  }
 },
 "nbformat": 4,
 "nbformat_minor": 2
}
